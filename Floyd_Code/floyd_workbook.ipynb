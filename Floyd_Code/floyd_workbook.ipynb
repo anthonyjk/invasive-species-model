{
 "cells": [
  {
   "cell_type": "code",
   "execution_count": null,
   "id": "3e43c8dd-ca4f-4eaa-bc7a-176837ee7e69",
   "metadata": {},
   "outputs": [],
   "source": [
    "import networkx as nx\n",
    "import matplotlib.pyplot as plt\n",
    "def graph_fun():\n",
    "    dir_matrix = {\"Arctic Cod\": [\"Orca\", \"Leopard Seal\"], \n",
    "                  \"Orca\": [], \n",
    "                  \"Krill\": [\"Arctic Cod\", \"Orca\", \"Leopard Seal\", \"Balleen Whale\", \"Penguin\"], \n",
    "                  \"Penguin\": [\"Orca\"], \n",
    "                  \"Balleen Whale\": [], \n",
    "                  \"Leopard Seal\": [\"Orca\"]}\n",
    "    \n",
    "    pos_matrix = {\"Arctic Cod\": (0, 2.5), \n",
    "                  \"Orca\": (4, 2), \n",
    "                  \"Krill\": (2, 2.5), \n",
    "                  \"Penguin\": (3, 2.5), \n",
    "                  \"Balleen Whale\": (1, 4), \n",
    "                  \"Leopard Seal\": (3, 3.5)}\n",
    "\n",
    "    G = nx.DiGraph(dir_matrix)\n",
    "    nx.draw_networkx(G, pos = pos_matrix)"
   ]
  },
  {
   "cell_type": "code",
   "execution_count": null,
   "id": "1c36920f-ac4f-47b8-8662-1e3fd755d770",
   "metadata": {},
   "outputs": [],
   "source": []
  }
 ],
 "metadata": {
  "kernelspec": {
   "display_name": "Python 3.11 (default)",
   "language": "python",
   "name": "python3"
  },
  "language_info": {
   "codemirror_mode": {
    "name": "ipython",
    "version": 3
   },
   "file_extension": ".py",
   "mimetype": "text/x-python",
   "name": "python",
   "nbconvert_exporter": "python",
   "pygments_lexer": "ipython3",
   "version": "3.11.9"
  }
 },
 "nbformat": 4,
 "nbformat_minor": 5
}
