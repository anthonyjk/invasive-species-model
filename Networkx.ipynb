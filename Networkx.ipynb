{
 "cells": [
  {
   "cell_type": "code",
   "execution_count": 1,
   "id": "331be3eb-2b52-47b7-bdd0-afec6eeed169",
   "metadata": {},
   "outputs": [],
   "source": [
    "import ecosystem\n",
    "import graphing_functions\n",
    "import matplotlib.pyplot as plt"
   ]
  },
  {
   "cell_type": "code",
   "execution_count": 5,
   "id": "8b7a53e1-7150-436d-a5ed-a0930e621a53",
   "metadata": {},
   "outputs": [],
   "source": [
    "ecosystem.run()\n",
    "no_inv = ecosystem.eco_data\n",
    "\n",
    "ecosystem.reset_pops()\n",
    "\n",
    "ecosystem.run(invasive=True)\n",
    "inv = ecosystem.eco_data\n",
    "p"
   ]
  },
  {
   "cell_type": "code",
   "execution_count": null,
   "id": "519da0c2-2c57-4df2-81a8-6ed2529ccfe4",
   "metadata": {},
   "outputs": [],
   "source": [
    "direction_dict, position_dict, conversion_dict, node_size_list = set_dictionaries\n",
    "\n",
    "for i in range("
   ]
  }
 ],
 "metadata": {
  "kernelspec": {
   "display_name": "Python 3.11 (default)",
   "language": "python",
   "name": "python3"
  },
  "language_info": {
   "codemirror_mode": {
    "name": "ipython",
    "version": 3
   },
   "file_extension": ".py",
   "mimetype": "text/x-python",
   "name": "python",
   "nbconvert_exporter": "python",
   "pygments_lexer": "ipython3",
   "version": "3.11.9"
  }
 },
 "nbformat": 4,
 "nbformat_minor": 5
}
