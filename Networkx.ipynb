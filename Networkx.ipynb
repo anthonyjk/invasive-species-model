{
 "cells": [
  {
   "cell_type": "code",
   "execution_count": 1,
   "id": "331be3eb-2b52-47b7-bdd0-afec6eeed169",
   "metadata": {},
   "outputs": [],
   "source": [
    "import ecosystem\n",
    "import graphing_functions\n",
    "import matplotlib.pyplot as plt\n",
    "import time\n",
    "import networkx as nx\n",
    "import pandas as pd\n",
    "from PIL import Image\n",
    "import io"
   ]
  },
  {
   "cell_type": "code",
   "execution_count": 2,
   "id": "8b7a53e1-7150-436d-a5ed-a0930e621a53",
   "metadata": {},
   "outputs": [],
   "source": [
    "#Running the ecosystem and saving the output (without the invasive species)\n",
    "ecosystem.run()\n",
    "no_inv = ecosystem.eco_data\n",
    "\n",
    "#Resetting populations to run the system again\n",
    "ecosystem.reset_pops()\n",
    "\n",
    "#Running the ecosystem and saving the outputs (with the invasive species)\n",
    "ecosystem.run(invasive=True)\n",
    "inv = ecosystem.eco_data\n",
    "crab_data = ecosystem.crab_data"
   ]
  },
  {
   "cell_type": "code",
   "execution_count": 3,
   "id": "9e70bb97-da5a-40be-b63e-d87dc163ec49",
   "metadata": {},
   "outputs": [
    {
     "data": {
      "text/plain": [
       "<Figure size 1200x1000 with 0 Axes>"
      ]
     },
     "metadata": {},
     "output_type": "display_data"
    }
   ],
   "source": [
    "#Setting dictionaries\n",
    "direction_dict, position_dict, conversion_dict, node_size_list = graphing_functions.set_dictionaries()\n",
    "\n",
    "#generating the gif of the networkx graph\n",
    "graphing_functions.food_web_plot(no_inv, direction_dict, position_dict, conversion_dict, node_size_list, \"gifs/no_inv.gif\", 100)"
   ]
  },
  {
   "cell_type": "code",
   "execution_count": 4,
   "id": "2ad873c7-554c-4936-9245-382d9bc2604d",
   "metadata": {},
   "outputs": [
    {
     "data": {
      "text/plain": [
       "<Figure size 1200x1000 with 0 Axes>"
      ]
     },
     "metadata": {},
     "output_type": "display_data"
    }
   ],
   "source": [
    "#Updating dictionaries to work with the invasive species data\n",
    "direction_dict[\"Arctic Cod\"] = [\"Orca\", \"Leopard Seal\", \"King Crab\"]\n",
    "direction_dict[\"Krill\"] = [\"Arctic Cod\", \"Leopard Seal\", \"Baleen Whale\", \"Penguin\", \"King Crab\"]\n",
    "position_dict[\"King Crab\"] = (2,3)\n",
    "conversion_dict[\"Arctic Cod\"] = [\"orca_cod_consumed\", \"seal_cod_consumed\", \"crab_cod_consumed\"]\n",
    "conversion_dict[\"Krill\"] = [\"cod_krill_consumed\", \"seal_krill_consumed\", \"whale_krill_consumed\", \"penguin_krill_consumed\", \"crab_krill_consumed\"]\n",
    "node_size_list.append(4500)\n",
    "\n",
    "#Combining the data for the king crab with the rest of the data\n",
    "inv = pd.concat([inv, crab_data], axis = 1)\n",
    "\n",
    "#generating the gif of the networkx graph\n",
    "graphing_functions.food_web_plot(inv, direction_dict, position_dict, conversion_dict, node_size_list, \"gifs/inv.gif\", 100)"
   ]
  },
  {
   "cell_type": "code",
   "execution_count": null,
   "id": "47b537a9-1d8a-4690-bdb0-a7deb99d0ca6",
   "metadata": {},
   "outputs": [],
   "source": []
  },
  {
   "cell_type": "code",
   "execution_count": null,
   "id": "d8a21866-bbd4-455d-95ef-c94798b4a4c8",
   "metadata": {},
   "outputs": [],
   "source": []
  }
 ],
 "metadata": {
  "kernelspec": {
   "display_name": "Python 3.11 (default)",
   "language": "python",
   "name": "python3"
  },
  "language_info": {
   "codemirror_mode": {
    "name": "ipython",
    "version": 3
   },
   "file_extension": ".py",
   "mimetype": "text/x-python",
   "name": "python",
   "nbconvert_exporter": "python",
   "pygments_lexer": "ipython3",
   "version": "3.11.9"
  }
 },
 "nbformat": 4,
 "nbformat_minor": 5
}
